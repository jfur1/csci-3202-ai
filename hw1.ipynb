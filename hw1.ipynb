{
 "cells": [
  {
   "cell_type": "markdown",
   "metadata": {},
   "source": [
    "## <a id='top'></a>\n",
    "\n",
    "# CSCI 3202, Spring 2020\n",
    "# Assignment 1\n",
    "# Due: Friday 31 January 2020 by 12:00 PM\n",
    "\n",
    "<br> \n",
    "\n",
    "### Your name: John Furlong\n",
    "\n",
    "<br> "
   ]
  },
  {
   "cell_type": "markdown",
   "metadata": {},
   "source": [
    "---\n",
    "\n",
    "Some useful helper functions and packages are loaded at [the bottom of this notebook](#helpers). Go execute those cells before proceeding."
   ]
  },
  {
   "cell_type": "markdown",
   "metadata": {},
   "source": [
    "---\n",
    "\n",
    "## Problem 1\n",
    "\n",
    "### Warm-up: practice with Markdown, Jupyter and Python troubleshooting\n",
    "\n",
    "Python is a great language because of its flexibility and efficiency. Jupyter notebooks are a great tool because they allow the seamless integration of codes and nicely formatted text and equations.\n",
    "\n",
    "### (1a)\n",
    "\n",
    "You can use the toolbar at the top of the screen to create new cells. To create a new cell below this one, click on this cell so that a blue vertical bar appears to the left. Then, in the toolbar at the top of the screen, click `Insert` and `Insert Cell Below`. (You can also use the hotkey `b` while this cell is selected, to create a new cell below.)\n",
    "\n",
    "The cell will default as a code cell, in which you can write and execute Python 3 code. (NB: Jupyter also supports (e.g.) Julia and R code; at the top-right of the screen, you'll see some blue and yellow snakes indicating that this notebook is Python 3. Oh, and the words \"Python 3\" also give it away.) The cell you are currently reading is a Markdown cell, in which you can write pretty text and equations.\n",
    "\n",
    "In your new code cell below, write a function `bigger` with the following specifications.\n",
    "* The arguments to `bigger` are two real numbers.\n",
    "* `bigger` prints to screen the larger of the two numbers. If the two numbers are equal, then print that number.\n",
    "* As output, return the difference between the larger number and the smaller number."
   ]
  },
  {
   "cell_type": "code",
   "execution_count": 11,
   "metadata": {},
   "outputs": [],
   "source": [
    "def bigger(num1, num2):\n",
    "    if(num1 == num2):\n",
    "        print(num1)\n",
    "        return 0\n",
    "    elif(num1 > num2):\n",
    "        return num1-num2\n",
    "    else:\n",
    "        return num2-num1"
   ]
  },
  {
   "cell_type": "markdown",
   "metadata": {},
   "source": [
    "#### Test cases:\n",
    "You can execute the cell below to run a simple test case for your `bigger` function. This can give you a sense of how you can test your codes before proceeding through assignment problems that build on previous parts."
   ]
  },
  {
   "cell_type": "code",
   "execution_count": 12,
   "metadata": {},
   "outputs": [
    {
     "name": "stdout",
     "output_type": "stream",
     "text": [
      "10\n",
      "Passed test case\n"
     ]
    }
   ],
   "source": [
    "print('Passed test case') if (bigger(10,-10)==20) & (bigger(10,10)==0) else print('Failed test case')"
   ]
  },
  {
   "cell_type": "markdown",
   "metadata": {},
   "source": [
    "#### Test cases, rebooted:\n",
    "These test cases could have also been executed using a couple `assert` statements as follows.  If you are unfamiliar with these commands in Python, you may find it useful to play around with the codes and see what happens when you intentionally fail a test case."
   ]
  },
  {
   "cell_type": "code",
   "execution_count": 13,
   "metadata": {},
   "outputs": [
    {
     "name": "stdout",
     "output_type": "stream",
     "text": [
      "10\n"
     ]
    }
   ],
   "source": [
    "assert bigger(10,-10)==20, 'Failed test case'\n",
    "assert bigger(10,10)==0, 'Failed test case'"
   ]
  },
  {
   "cell_type": "markdown",
   "metadata": {},
   "source": [
    "#### Test cases, one more time:\n",
    "Those test cases could have also been implemented using Python's `unittest` package. Below is a simple example.  Again, if you are unfamiliar with these routines, it will be useful to play around with modifying the code to see what happens when you \"break\" it in a known way."
   ]
  },
  {
   "cell_type": "code",
   "execution_count": 31,
   "metadata": {},
   "outputs": [
    {
     "name": "stderr",
     "output_type": "stream",
     "text": [
      "."
     ]
    },
    {
     "name": "stdout",
     "output_type": "stream",
     "text": [
      "10\n"
     ]
    },
    {
     "name": "stderr",
     "output_type": "stream",
     "text": [
      "\n",
      "----------------------------------------------------------------------\n",
      "Ran 1 test in 0.001s\n",
      "\n",
      "OK\n"
     ]
    },
    {
     "data": {
      "text/plain": [
       "<unittest.runner.TextTestResult run=1 errors=0 failures=0>"
      ]
     },
     "execution_count": 31,
     "metadata": {},
     "output_type": "execute_result"
    }
   ],
   "source": [
    "# set up the tests to run, as a sub-class of the unittest 'TestCase' class\n",
    "class Tests_Problem1(unittest.TestCase):\n",
    "    def test_bigger(self):\n",
    "        self.assertEqual(bigger(10,-10), 20)\n",
    "        self.assertEqual(bigger(10,10), 0)\n",
    "\n",
    "# instantiation of your tests\n",
    "tests = Tests_Problem1()\n",
    "\n",
    "# load the tests\n",
    "tests_to_run = unittest.TestLoader().loadTestsFromModule(tests)\n",
    "\n",
    "# run the tests\n",
    "unittest.TextTestRunner().run(tests_to_run)"
   ]
  },
  {
   "cell_type": "markdown",
   "metadata": {},
   "source": [
    "### Conclusion: test cases\n",
    "\n",
    "Now we have seen three different ways to implement test cases. They varied from the most informal (the `print` statement) to the most formal (the `unittest` package). Implementing your own test cases as you develop codes is a good idea, and the `print` or `assert` statements are a nice and simple way to do this.\n",
    "\n",
    "I will generally provide `unittest` test cases at the end of each problem or assignment, so you have a sense of whether or not your code is working. The test cases for the remaining problems on this assignment will be defined at the bottom of the notebook, but code to run them will be provided within each problem (so you do not need to keep scrolling up and down the darn thing). The `unittest` framework is nice because it is modular and can be broken up into test cases for individual sections of codes. Of course, we could implement these test cases in `CodeRunner`, but learning how to implement `unittest`s in Jupyter is a useful skill.\n",
    "\n",
    "Note that for grading, we will often run your code through hidden test cases as well."
   ]
  },
  {
   "cell_type": "markdown",
   "metadata": {},
   "source": [
    "### (1b)\n",
    "\n",
    "Now let's play around with using the Markdown cells.  Create another new cell below this one, so we can include some text describing our nice `bigger` function.\n",
    "\n",
    "Now we will need to change the newly-created cell from a code cell to a Markdown cell. You can do this in one of two ways:\n",
    "1. select the cell; click `Cell` in the toolbar, then `Cell Type`, and finally `Markdown`\n",
    "2. select the cell; push `m` (Note that this only works if you are not in \"edit\" mode, which is indicated by the color of the vertical bar on the left side of the cell. If you are in \"edit\" mode, then this bar will be green. To escape from \"edit\" mode, you can (appropriately) hit the `esc` key. The green bar should change to blue to reflect this.)\n",
    "\n",
    "Create the new cell, convert it to a Markdown cell, and then enter some text to describe your `bigger` function. Initially, the cell looks like a raw text editor. If you execute the cell by using `Shift`+`Enter`, then it will become nicely formatted.\n",
    "\n",
    "**Useful tip:**  You can double-click on these existing Markdown cells (e.g., all of the instructions) in order to see some examples of how to format outlines, (sub)titles, **boldface**, *italics*, and so forth."
   ]
  },
  {
   "cell_type": "markdown",
   "metadata": {},
   "source": [
    "The function `bigger` takes two numbers as input and returns the difference between the larger number and the smaller one. If the two numbers are equal, then we print the number and return the difference between them (zero)."
   ]
  },
  {
   "cell_type": "markdown",
   "metadata": {},
   "source": [
    "### (1c)\n",
    "\n",
    "Another nice feature of Jupyter notebooks is the LaTeX support, which enables nice equations and a whole suite of symbols and formatting options. That's great news for math/stats-heavy fields such as Artifical Intelligence!\n",
    "\n",
    "Here is an example of an equation: $x^2 + \\beta^2 = \\frac{1}{2}$\n",
    "\n",
    "In the cell below, provide your favorite mathematical equation (or system of equations!) and a brief explanation of why it's your favorite. Of course, you should format it nicely in LaTeX - it is your favorite equation after all."
   ]
  },
  {
   "cell_type": "markdown",
   "metadata": {},
   "source": [
    "**Fermat's Last Theorem:**\n",
    "\n",
    "Not to be confused with the Pythagorean Theorem, Fermat's Last Theorem states: No three positive integers *a*, *b*, and *c* satisfy the equation $a^n + b^n = c^n$ for any integer value $n > 2$. \n",
    "\n",
    "This is my favorite mathematical equation because of the lore behind it. It was named Fermat's Last Theorem 30 years after Fermat's death, when mathematicians discovered his claim to have a proof of this written in the margin of his notebook, but could never actually locate the proof. Also, at the end of a Simpson's episode, Homer writes the equation $3987^{12} + 4356^{12} = 4472^{12}$ on a blackboard. The equation is incorrect, but appears correct if you use a calculator with 10 significant figures!"
   ]
  },
  {
   "cell_type": "markdown",
   "metadata": {},
   "source": []
  },
  {
   "cell_type": "markdown",
   "metadata": {},
   "source": [
    "<br><br>\n",
    "\n",
    "---\n",
    "\n",
    "## Problem 2\n",
    "\n",
    "### Classes and stacks in Python: *These aren't the stacks you're looking for...*\n",
    "\n",
    "<img src=\"https://lumiere-a.akamaihd.net/v1/images/databank_jedimindtrick_01_169_a491266d.jpeg?region=0%2C0%2C1560%2C878&width=768\" alt=\"Drawing\" style=\"width: 400px;\"/>\n",
    "\n",
    "\n",
    "### (2a) \n",
    "\n",
    "Implement a class `Jedi`, with the following specifications.\n",
    "* A new instantiation of `Jedi` takes in a single argument for the `name` of the Jedi.\n",
    "* New Jedis have an attribute `skills`, which will be a list of the Jedis learned skills.\n",
    "* New Jedis have a Boolean attribute `isGhost`\n",
    "* New Jedis have a character string attribute `name`, which is assigned the value passed into the instantiation.\n",
    "* New Jedis are not ghosts and have no skills.\n",
    "\n",
    "Jedi have the following methods.\n",
    "* `learn(char string)`: push a new skill to the end of the Jedi's list of skills\n",
    "* `forget()`: sometimes Jedis forget things too! Pop off the last skill the Jedi learned. If the Jedi has no skills, return \"Jedi has no skills!\"\n",
    "* `checkSkills()`: return an integer representing the number of unique skills the Jedi has\n",
    "* `duel(other_jedi)`: the given Jedi duels another Jedi (`other_jedi`), who is input to the `duel` method. The winner of the duel is the Jedi who possesses more (unique) skills. The loser of the duel turns into a ghost. This method should return the name of the winner of the duel. If the duel is a tie, return \"Tie\". Additionally, your `duel` routine should:\n",
    "  * Print \"[name] wins the duel.\", where `[name]` is replaced by the name of the winning Jedi.\n",
    "  * If there is a tie, print \"The duel results in a tie.\""
   ]
  },
  {
   "cell_type": "code",
   "execution_count": 75,
   "metadata": {},
   "outputs": [],
   "source": [
    "class Jedi:\n",
    "    def __init__(self, name):\n",
    "        self.name = name\n",
    "        self.skills = []\n",
    "        self.isGhost = False\n",
    "    \n",
    "    def learn(self, newSkill):\n",
    "        self.skills.append(newSkill)\n",
    "        \n",
    "    def forget(self):\n",
    "        if not self.skills:\n",
    "            return 'Jedi has no skills!'\n",
    "        else:\n",
    "            return self.skills.pop()\n",
    "    \n",
    "    def checkSkills(self):\n",
    "        list1 = np.array(self.skills)\n",
    "        count = len(np.unique(list1))\n",
    "        return count\n",
    "\n",
    "    def duel(self, other_jedi):\n",
    "        list2 = np.array(other_jedi.skills)\n",
    "        count1 = self.checkSkills()\n",
    "        count2 = len(np.unique(list2))\n",
    "        \n",
    "        if(count1 == count2):\n",
    "            return 'Tie'\n",
    "        elif(count1 > count2):\n",
    "            other_jedi.isGhost = True\n",
    "            print(self.name, 'wins the duel!')\n",
    "            return self.name\n",
    "        else:\n",
    "            self.isGhost = True\n",
    "            print(other_jedi.name, 'wins the duel!')\n",
    "            return other_jedi.name"
   ]
  },
  {
   "cell_type": "markdown",
   "metadata": {},
   "source": [
    "### (2b)\n",
    "\n",
    "Create two Jedi:\n",
    "* One named \"Rhonda\" who has learned (in this order) the skills: (1) lightsabers, (2) high kicks, (3) spreadsheets and (4) mind tricks\n",
    "* One named \"Chris\" who has learned (in this order) the skills: (1) lightsabers, (2) scipy, (3) reaching high shelves and (4) lightsabers (yes, Chris had to retake the lightsabers training course - he's rather clumsy)"
   ]
  },
  {
   "cell_type": "code",
   "execution_count": 76,
   "metadata": {},
   "outputs": [],
   "source": [
    "Rhonda = Jedi('Rhonda')\n",
    "Rhonda.learn('lightsabers')\n",
    "Rhonda.learn('high kicks')\n",
    "Rhonda.learn('spreadhseets')\n",
    "Rhonda.learn('mind tricks')\n",
    "\n",
    "Chris = Jedi('Chris')\n",
    "Chris.learn('lightsabers')\n",
    "Chris.learn('scipy')\n",
    "Chris.learn('reaching high shelves')\n",
    "Chris.learn('lightsabers')"
   ]
  },
  {
   "cell_type": "markdown",
   "metadata": {},
   "source": [
    "### (2c)\n",
    "\n",
    "Have Rhonda and Chris duel."
   ]
  },
  {
   "cell_type": "code",
   "execution_count": 77,
   "metadata": {},
   "outputs": [
    {
     "name": "stdout",
     "output_type": "stream",
     "text": [
      "Rhonda wins the duel!\n"
     ]
    },
    {
     "data": {
      "text/plain": [
       "'Rhonda'"
      ]
     },
     "execution_count": 77,
     "metadata": {},
     "output_type": "execute_result"
    }
   ],
   "source": [
    "Rhonda.duel(Chris)"
   ]
  },
  {
   "cell_type": "markdown",
   "metadata": {},
   "source": [
    "### (2d)\n",
    "\n",
    "Enter below as Markdown text (**not** as a code cell) a sentence declaring how many skills Chris should have. Note that you will need to **add a cell** between this one and the following code cell. Then, in the provided code cell, check that he in fact has this number of skill."
   ]
  },
  {
   "cell_type": "markdown",
   "metadata": {
    "collapsed": true
   },
   "source": [
    "Chris should have 3 skills, since we are counting the number of *unique* skills a jedi knows, which is why Rhonda wins the duel!"
   ]
  },
  {
   "cell_type": "code",
   "execution_count": 78,
   "metadata": {},
   "outputs": [
    {
     "data": {
      "text/plain": [
       "3"
      ]
     },
     "execution_count": 78,
     "metadata": {},
     "output_type": "execute_result"
    }
   ],
   "source": [
    "Chris.checkSkills()"
   ]
  },
  {
   "cell_type": "markdown",
   "metadata": {},
   "source": [
    "You just implemented a **stack** for Jedi skills. Good work, padawan!"
   ]
  },
  {
   "cell_type": "markdown",
   "metadata": {},
   "source": [
    "### Test cases\n",
    "\n",
    "Note that these test cases are independent of the tasks assigned above. The actual `Tests_Problem2()` unittests are defined at the end of the notebook."
   ]
  },
  {
   "cell_type": "code",
   "execution_count": 79,
   "metadata": {},
   "outputs": [
    {
     "name": "stderr",
     "output_type": "stream",
     "text": [
      "..."
     ]
    },
    {
     "name": "stdout",
     "output_type": "stream",
     "text": [
      "Rhonda wins the duel!\n"
     ]
    },
    {
     "name": "stderr",
     "output_type": "stream",
     "text": [
      "\n",
      "----------------------------------------------------------------------\n",
      "Ran 3 tests in 0.002s\n",
      "\n",
      "OK\n"
     ]
    },
    {
     "data": {
      "text/plain": [
       "<unittest.runner.TextTestResult run=3 errors=0 failures=0>"
      ]
     },
     "execution_count": 79,
     "metadata": {},
     "output_type": "execute_result"
    }
   ],
   "source": [
    "# instantiate the tests\n",
    "tests = Tests_Problem2()\n",
    "# load the tests\n",
    "tests_to_run = unittest.TestLoader().loadTestsFromModule(tests)\n",
    "# run the tests\n",
    "unittest.TextTestRunner().run(tests_to_run)"
   ]
  },
  {
   "cell_type": "markdown",
   "metadata": {},
   "source": [
    "<br><br>\n",
    "\n",
    "---"
   ]
  },
  {
   "cell_type": "markdown",
   "metadata": {},
   "source": [
    "## Problem 3\n",
    "\n",
    "### Trees and nodes\n",
    "\n",
    "### (3a)\n",
    "\n",
    "Implement a `Node` class with the following attributes and methods.\n",
    "\n",
    "`Node(key, l, r, p)`\n",
    "* `key`: an integer key to uniquely identify each node in a graph (input during instantiation)\n",
    "* `left_child`: an integer key identifying the left child of the given node  (input `l` during instantiation)\n",
    "* `right_child`: an integer key identifying the right child of the given node (input `r` during instantiation)\n",
    "* `parent`: an integer key identifying the parent of the given node (input `p` during instantiation)\n",
    "* `getChildren()`: returns a list of two elements, the left and right children the given node (in that order)\n",
    "\n",
    "Note that you should appropriately specify default arguments to cover the cases where the node does not have a left/right child or a parent.\n",
    "\n",
    "Also note that your code for `getChildren()` should return a list of two `Node` objects as the children, *not* their keys."
   ]
  },
  {
   "cell_type": "code",
   "execution_count": 146,
   "metadata": {},
   "outputs": [],
   "source": [
    "class Node:\n",
    "    \n",
    "    def __init__(self, key, l=None, r=None, p=None):\n",
    "        self.key = key\n",
    "        \n",
    "        self.left_child = None if l == None else l\n",
    "        \n",
    "        self.right_child = None if r == None else r\n",
    "        \n",
    "        self.parent = None if p == None else p\n",
    "        \n",
    "    def getChildren(self):\n",
    "        if(self.left_child == None) and (self.right_child == None):\n",
    "            return [None, None]\n",
    "        elif(self.left_child != None) and (self.right_child == None):\n",
    "            return [self.left_child, None]\n",
    "        else:\n",
    "            child_list = [self.left_child, self.right_child]\n",
    "            return child_list"
   ]
  },
  {
   "cell_type": "markdown",
   "metadata": {},
   "source": [
    "### (3b)\n",
    "\n",
    "This problem will build on your `Node` class from (3a), so make sure that code is working properly.\n",
    "\n",
    "Below is some code to construct binary trees. It's pretty nice, but is missing a critical method: one that allows you to `add` a new node. Implement an `add` method for the `Node` class; put your code in the space indicated in the code block below. You new `add` method should adhere to the following specifications.\n",
    "\n",
    "`add(key, parentKey)`\n",
    "* `key` is the key value for the new node\n",
    "* `parentKey` is the key value of the parent\n",
    "* if `parentKey` is not found in the tree, then print the message: \"Parent not found.\"\n",
    "* if the `parentKey` is found in the tree, then:\n",
    "  * add the new node as the left child if the parent has no children\n",
    "  * add the new node as the right child if the parent has a left child only\n",
    "  * don’t add the node if the parent already has two children. Instead, print the message: \"Parent has two children, node not added.\"\n",
    "* if a new node is successfully added to the tree, then return `True`; otherwise, return `False`"
   ]
  },
  {
   "cell_type": "code",
   "execution_count": 147,
   "metadata": {},
   "outputs": [],
   "source": [
    "class Tree:\n",
    "    \n",
    "    def __init__(self, rootkey):\n",
    "        #create a new tree while setting root\n",
    "        self.root = Node(rootkey, None, None, None)\n",
    "\n",
    "    def checkTree(self, key, parentKey, root):\n",
    "        #Recursive function that searches through tree to find if parentKey exists\n",
    "        # note that 'root' input is not necessarily the root of the tree ('self')\n",
    "        # 'root' is just where to start looking for the right parentKey to add this new node\n",
    "        if root == None:\n",
    "            #if there is no root in tree\n",
    "            return False\n",
    "        if root.key == parentKey:\n",
    "            if root.left_child == None or root.right_child == None:\n",
    "                # the node 'root' is the parent you should add the new child node to\n",
    "                return root \n",
    "            else:\n",
    "                print(\"Parent has two children, node not added.\")\n",
    "                return False\n",
    "        else:\n",
    "            for child in root.getChildren():\n",
    "                # check 'root' node's children if they are the parent you're looking for\n",
    "                add_temp = self.checkTree(key, parentKey, child)\n",
    "                if add_temp:\n",
    "                    return add_temp\n",
    "\n",
    "                \n",
    "# YOUR CODE GOES HERE\n",
    "    def add(self, key, parentKey):\n",
    "        # Edge Case: Empty Tree\n",
    "        if(self.root == None):\n",
    "            print('Empty Tree!')\n",
    "            return False\n",
    "        \n",
    "        root = self.checkTree(key, parentKey, self.root)\n",
    "        # root will be false if there are already two children (Already checked for case of empty tree)\n",
    "        if (root == False):\n",
    "            print('Parent has two children, node not added.')\n",
    "            return False\n",
    "        # ParentKey not found in the tree\n",
    "        elif(root.key != parentKey):\n",
    "            print('Parent not found.')\n",
    "            return False\n",
    "        else:\n",
    "            if(root.left_child == None) and (root.right_child == None):\n",
    "                # No children => Create new node with no children and 'root' as the parent, then insert as left child.\n",
    "                newNode = Node(key, None, None, root.key)\n",
    "                root.left_child = newNode\n",
    "                return True\n",
    "            elif(root.left_child != None) and (root.right_child == None):\n",
    "                # Left child exists, so create new node with no children and 'root' as parent, then insert as right child.\n",
    "                newNode = Node(key, None, None, root.key)\n",
    "                root.right_child = newNode\n",
    "                return True\n",
    "            elif(root.left_child == None) and (root.right_child != None):\n",
    "                newNode = Node(key, None, None, root.key)\n",
    "                root.left_child = newNode\n",
    "                return True\n",
    "            else:\n",
    "                print('Parent has two children, node not added.')\n",
    "                return False\n",
    "                \n",
    "\n",
    "\n",
    "\n",
    "    def findNodeDelete(self, key, root):\n",
    "        if root == None:\n",
    "            return False\n",
    "        if key == root.key:\n",
    "            if root.left_child == None and root.right_child == None:\n",
    "                if root.parent.left_child.key == key:\n",
    "                    root.parent.left_child = None\n",
    "                elif root.parent.right_child.key == key:\n",
    "                    root.parent.right_child = None\n",
    "                root = None\n",
    "                return True\n",
    "            else:\n",
    "                print(\"Node not deleted, has children\")\n",
    "                return False\n",
    "        else:\n",
    "            for child in root.getChildren():\n",
    "                delete_node = self.findNodeDelete(key, child)\n",
    "                if delete_node:\n",
    "                    return delete_node\n",
    "\n",
    "    def delete(self, key):\n",
    "        if self.root == None:\n",
    "            self.root = Node(key, None, None, None)\n",
    "        if key == self.root.key:\n",
    "            if self.root.left_child == None and self.root.right_child == None:\n",
    "                self.root = None\n",
    "                return True\n",
    "            else:\n",
    "                print(\"Node not deleted, has children\")\n",
    "                return False\n",
    "        else:\n",
    "            for child in self.root.getChildren():\n",
    "                delete_node = self.findNodeDelete(key, child)\n",
    "                if delete_node:\n",
    "                    return delete_node\n",
    "\n",
    "        print(\"Parent not found.\" )\n",
    "        return False\n",
    "\n",
    "    def printTree(self):\n",
    "        if self.root != None:\n",
    "            print(self.root.key)\n",
    "            for child in self.root.getChildren():\n",
    "                self.printBranch(child)\n",
    "        else: \n",
    "            return\n",
    "        \n",
    "    def printBranch(self, root):\n",
    "        if root == None:\n",
    "            return\n",
    "        else:\n",
    "            print(root.key)\n",
    "            for child in root.getChildren():\n",
    "                self.printBranch(child)"
   ]
  },
  {
   "cell_type": "markdown",
   "metadata": {},
   "source": [
    "### (3c)\n",
    "\n",
    "Use your `Tree` class to create an object representing the following binary tree. The numbers inside the vertices represent the node keys. The first line of code you get for free!\n",
    "\n",
    "<img src=\"http://drive.google.com/uc?export=view&id=1TL8p3Ibl9yBOZuChcAHSFO4b9YYJ6RUU\" alt=\"Drawing\" style=\"width: 400px;\"/>"
   ]
  },
  {
   "cell_type": "code",
   "execution_count": 148,
   "metadata": {},
   "outputs": [
    {
     "data": {
      "text/plain": [
       "True"
      ]
     },
     "execution_count": 148,
     "metadata": {},
     "output_type": "execute_result"
    }
   ],
   "source": [
    "tree = Tree(0)\n",
    "tree.add(1, 0)\n",
    "tree.add(2, 0)\n",
    "tree.add(3, 1)\n",
    "tree.add(6, 3)\n",
    "tree.add(7, 3)\n",
    "tree.add(4, 2)\n",
    "tree.add(8, 4)\n",
    "tree.add(9, 4)\n",
    "tree.add(11, 8)\n",
    "tree.add(12, 8)\n",
    "tree.add(5, 2)\n",
    "tree.add(10, 5)\n",
    "tree.add(13, 10)"
   ]
  },
  {
   "cell_type": "markdown",
   "metadata": {},
   "source": [
    "### Test cases\n",
    "\n",
    "Note that these test cases are independent of the tasks above. The actual `Tests_Problem3()` are defined at the end of this notebook."
   ]
  },
  {
   "cell_type": "code",
   "execution_count": 149,
   "metadata": {},
   "outputs": [
    {
     "name": "stderr",
     "output_type": "stream",
     "text": [
      "..."
     ]
    },
    {
     "name": "stdout",
     "output_type": "stream",
     "text": [
      "Parent has two children, node not added.\n",
      "Parent has two children, node not added.\n"
     ]
    },
    {
     "name": "stderr",
     "output_type": "stream",
     "text": [
      "\n",
      "----------------------------------------------------------------------\n",
      "Ran 3 tests in 0.002s\n",
      "\n",
      "OK\n"
     ]
    },
    {
     "data": {
      "text/plain": [
       "<unittest.runner.TextTestResult run=3 errors=0 failures=0>"
      ]
     },
     "execution_count": 149,
     "metadata": {},
     "output_type": "execute_result"
    }
   ],
   "source": [
    "# instantiation of your tests\n",
    "tests = Tests_Problem3()\n",
    "# load the tests\n",
    "tests_to_run = unittest.TestLoader().loadTestsFromModule(tests)\n",
    "# run the tests\n",
    "unittest.TextTestRunner().run(tests_to_run)"
   ]
  },
  {
   "cell_type": "markdown",
   "metadata": {},
   "source": [
    "<br><br>\n",
    "\n",
    "---\n",
    "\n",
    "\n",
    "## Problem 4\n",
    "\n",
    "### Graphs\n",
    "\n",
    "### (4a)\n",
    "\n",
    "Below is a partial `Graph` class implementation. There is a method to add a vertex to the graph, `addVertex`, but the code is missing functionality to add an edge or find a vertex. Modify the `Graph` class to include methods to add an edge and find a vertex by its value. Specifically:\n",
    "\n",
    "`addEdge(key1, key2)`\n",
    "* This method takes the key values of two vertices in the graph and adds an edge between them. If one or both of the vertices don’t exist in the graph, the method should print a message, \"One or more vertices not found.\" and do not add any edges.\n",
    "\n",
    "`findVertex(key)`\n",
    "* This method takes the key value of the vertex to search for, and if it’s found in the graph, prints and returns the key values of its adjacent vertices."
   ]
  },
  {
   "cell_type": "code",
   "execution_count": 236,
   "metadata": {},
   "outputs": [],
   "source": [
    "class Graph:\n",
    "    \n",
    "    def __init__(self):\n",
    "        self.vertices = {}\n",
    "\n",
    "    def addVertex(self, key):\n",
    "        # check if key value already exists\n",
    "        if key in self.vertices:\n",
    "            print(\"Vertex already exists\")\n",
    "            return None\n",
    "        else:\n",
    "            #newVertex = Vertex(key, adj=[])\n",
    "            self.vertices[key] = []\n",
    "            return\n",
    "\n",
    "# YOUR CODE GOES HERE \n",
    "    def addEdge(self, key1, key2):\n",
    "\n",
    "        if(key1 in self.vertices and key2 in self.vertices):\n",
    "            # v1 = self.vertices[key1]\n",
    "            # v2 = self.vertices[key2]\n",
    "            \n",
    "            self.vertices[key1].append(key2)\n",
    "            self.vertices[key2].append(key1)\n",
    "            return\n",
    "        else:\n",
    "            print('One or more vertices not found.')\n",
    "            return None\n",
    "\n",
    "    def findVertex(self, key):\n",
    "        if key in self.vertices:\n",
    "            adj_list = []\n",
    "            for v in self.vertices[key]:\n",
    "                adj_list.append(v)\n",
    "            return adj_list\n",
    "        else:\n",
    "            return None\n"
   ]
  },
  {
   "cell_type": "code",
   "execution_count": 237,
   "metadata": {},
   "outputs": [
    {
     "data": {
      "text/plain": [
       "[1, 3]"
      ]
     },
     "execution_count": 237,
     "metadata": {},
     "output_type": "execute_result"
    }
   ],
   "source": [
    "g = Graph()\n",
    "g.addVertex(1)\n",
    "g.addVertex(2)\n",
    "g.addVertex(3)\n",
    "g.addEdge(1, 2)\n",
    "g.addEdge(2,3)\n",
    "g.findVertex(2)"
   ]
  },
  {
   "cell_type": "markdown",
   "metadata": {},
   "source": [
    "### (4b)\n",
    "\n",
    "Use your `Graph` class to create an object representing the following undirected graph. The numbers inside the vertices represent the node keys. The first line of code you get for free!\n",
    "\n",
    "<img src=\"http://drive.google.com/uc?export=view&id=1Cy3RYh4aJxYBWIcE2axqzngGbcGSeTVV\" alt=\"Drawing\" style=\"width: 400px;\"/>"
   ]
  },
  {
   "cell_type": "code",
   "execution_count": 238,
   "metadata": {},
   "outputs": [],
   "source": [
    "g = Graph()\n",
    "\n",
    "for i in range(0, 11):\n",
    "    g.addVertex(i)\n",
    "\n",
    "g.addEdge(0,1)\n",
    "g.addEdge(0,2)\n",
    "g.addEdge(1,3)\n",
    "g.addEdge(1,4)\n",
    "g.addEdge(1,5)\n",
    "g.addEdge(2,7)\n",
    "g.addEdge(3,8)\n",
    "g.addEdge(4,5)\n",
    "g.addEdge(4,10)\n",
    "g.addEdge(5,6)\n",
    "g.addEdge(6,7)\n",
    "g.addEdge(6,10)\n",
    "g.addEdge(7,9)\n",
    "g.addEdge(8,10)\n",
    "g.addEdge(9,10)"
   ]
  },
  {
   "cell_type": "markdown",
   "metadata": {},
   "source": [
    "### Test cases\n",
    "\n",
    "Note that these test cases are unrelated to the tasks above. The actual test cases are defined at the bottom of the notebook."
   ]
  },
  {
   "cell_type": "code",
   "execution_count": 239,
   "metadata": {},
   "outputs": [
    {
     "name": "stderr",
     "output_type": "stream",
     "text": [
      "..\n",
      "----------------------------------------------------------------------\n",
      "Ran 2 tests in 0.001s\n",
      "\n",
      "OK\n"
     ]
    },
    {
     "data": {
      "text/plain": [
       "<unittest.runner.TextTestResult run=2 errors=0 failures=0>"
      ]
     },
     "execution_count": 239,
     "metadata": {},
     "output_type": "execute_result"
    }
   ],
   "source": [
    "# instantiation of your tests\n",
    "tests = Tests_Problem4()\n",
    "# load the tests\n",
    "tests_to_run = unittest.TestLoader().loadTestsFromModule(tests)\n",
    "# run the tests\n",
    "unittest.TextTestRunner().run(tests_to_run)"
   ]
  },
  {
   "cell_type": "markdown",
   "metadata": {},
   "source": [
    "---\n",
    "\n",
    "<br><br><br>\n",
    "\n",
    "<a id='helpers'></a>\n",
    "\n",
    "---\n",
    "\n",
    "[Back to top](#top)\n",
    "\n",
    "## Some things that are useful\n",
    "\n",
    "### `numpy`\n",
    "\n",
    "Generally, I will include some useful codes and/or packages down here.\n",
    "\n",
    "For this assignment - in particular, the `bigger` function - it might be useful to have `numpy` loaded."
   ]
  },
  {
   "cell_type": "code",
   "execution_count": 10,
   "metadata": {},
   "outputs": [],
   "source": [
    "import numpy as np\n",
    "import unittest"
   ]
  },
  {
   "cell_type": "markdown",
   "metadata": {},
   "source": [
    "If you have never used Python before, when you import a package like we just did for `numpy`, you now have access to all of the functions in that package.\n",
    "\n",
    "We call a function from a package as follows:"
   ]
  },
  {
   "cell_type": "code",
   "execution_count": 2,
   "metadata": {},
   "outputs": [
    {
     "name": "stdout",
     "output_type": "stream",
     "text": [
      "2.75\n"
     ]
    }
   ],
   "source": [
    "numbers = [0,2,4,5]\n",
    "mean_of_numbers = np.mean(numbers)\n",
    "print(mean_of_numbers)"
   ]
  },
  {
   "cell_type": "markdown",
   "metadata": {},
   "source": [
    "The \"as np\" part of the `import` command means that we do not need to write out `numpy.mean()`; instead we can abbreviate our package names.  This especially comes in handy with longer package names.\n",
    "\n",
    "**Note:** You do not *need* to use `numpy` for any part of this assignment. I only provide it here because (1) it could be useful and I'm sure some folks will ask whether or not they are allowed to use it, and (2) it's a useful example of importing packages in Python."
   ]
  },
  {
   "cell_type": "markdown",
   "metadata": {},
   "source": [
    "### Test cases"
   ]
  },
  {
   "cell_type": "code",
   "execution_count": 29,
   "metadata": {},
   "outputs": [],
   "source": [
    "import unittest\n",
    "\n",
    "# set up the tests to run, as a sub-class of the unittest 'TestCase' class\n",
    "class Tests_Problem2(unittest.TestCase):\n",
    "    def setUp(self):\n",
    "        self.rhonda = Jedi('Rhonda')\n",
    "        self.chris = Jedi('Chris')\n",
    "        self.dan = Jedi('Dan')\n",
    "        for skill in ['bicycle-riding','sabermetrics','scepters']: self.rhonda.learn(skill)\n",
    "        for skill in ['buses','lightsabers','lightsabers']: self.chris.learn(skill)\n",
    "        for skill in ['bicycle-riding','corn-husking']: self.dan.learn(skill)\n",
    "    def test_skillset(self):\n",
    "        self.assertEqual(self.chris.checkSkills(), 2)\n",
    "    def test_duel(self):\n",
    "        self.assertEqual(self.chris.duel(self.dan), 'Tie')\n",
    "        winner = self.chris.duel(self.rhonda)\n",
    "        self.assertEqual(self.chris.isGhost, True)\n",
    "        self.assertEqual(winner, 'Rhonda')\n",
    "    def test_forget(self):\n",
    "        self.assertEqual(self.rhonda.forget(), 'scepters')\n",
    "\n",
    "class Tests_Problem3(unittest.TestCase):        \n",
    "    def setUp(self):\n",
    "        # one tree\n",
    "        self.t1 = Tree(1)\n",
    "        rv = self.t1.add(10,1)\n",
    "        # another tree\n",
    "        self.t2 = Tree(-1)\n",
    "        rv = self.t2.add(5,-1)\n",
    "        rv = self.t2.add(6,-1)\n",
    "    def test_node(self):\n",
    "        n = Node(key=1, r=2)\n",
    "        self.assertEqual(n.getChildren(), [None,2])\n",
    "        self.assertEqual(n.key, 1)\n",
    "    def test_tree_add_right(self):\n",
    "        rv = self.t1.add(11,1)\n",
    "        self.assertEqual(rv, True)\n",
    "        self.assertEqual(self.t1.root.left_child.key, 10)\n",
    "        self.assertEqual(self.t1.root.right_child.key, 11)\n",
    "    def test_tree_add_fail(self):\n",
    "        rv = self.t2.add(7,-1)\n",
    "        self.assertEqual(rv, False)\n",
    "        \n",
    "class Tests_Problem4(unittest.TestCase):        \n",
    "    def setUp(self):\n",
    "        self.g = Graph()\n",
    "        for v in range(0,4): self.g.addVertex(v)\n",
    "        self.g.addEdge(1,2)\n",
    "        self.g.addEdge(2,3)\n",
    "    def test_connections(self):\n",
    "        self.assertEqual(self.g.vertices[2], [1,3])\n",
    "        self.assertEqual(self.g.vertices[0], [])\n",
    "    def test_findvertex(self):\n",
    "        self.assertEqual(self.g.findVertex(3), [2])\n",
    "        self.assertEqual(self.g.findVertex(2), [1,3])\n",
    "        "
   ]
  },
  {
   "cell_type": "code",
   "execution_count": null,
   "metadata": {},
   "outputs": [],
   "source": []
  }
 ],
 "metadata": {
  "kernelspec": {
   "display_name": "Python 3",
   "language": "python",
   "name": "python3"
  },
  "language_info": {
   "codemirror_mode": {
    "name": "ipython",
    "version": 3
   },
   "file_extension": ".py",
   "mimetype": "text/x-python",
   "name": "python",
   "nbconvert_exporter": "python",
   "pygments_lexer": "ipython3",
   "version": "3.7.3"
  }
 },
 "nbformat": 4,
 "nbformat_minor": 2
}

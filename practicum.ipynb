{
 "cells": [
  {
   "cell_type": "markdown",
   "metadata": {},
   "source": [
    "# CSCI 3202, Spring 2020: Practicum\n",
    "\n",
    "---\n",
    "\n",
    "\n",
    "This practicum is due on Moodle by **11:59 PM on Friday May 1 2020**.  Your solutions to theoretical questions should be done in Markdown/LateX directly below the associated question. Your solutions to computational questions should include any relevant Python code, as well as results and any written commentary.\n",
    "\n",
    "**The rules:**\n",
    "\n",
    "1. All work, code and analysis must be **your own**.\n",
    "1. You may use your course notes, posted lecture slides, textbook, in-class notebooks and homework solutions as resources.  You may also search online for answers to general knowledge questions, like the form of a probability distribution function, or how to perform a particular operation in Python.\n",
    "1. You may **not** post to message boards or other online resources asking for help.\n",
    "1. **You may not collaborate with classmates or anyone else.**\n",
    "1. This is meant to be like a coding portion of your final exam. So, I will be much less helpful than I typically am with homework. For example, I will not check answers, help debug your code, and so on.\n",
    "1. If you have a question, post it first as a **private** Piazza message. If I decide that it is appropriate for the entire class, then I will make it a public post (and anonymous).\n",
    "1. If something is left open-ended, it is probably because I intend for you to code it up however you want, and only care about the plots/analysis I see at the end. Feel free to ask clarifying questions though.\n",
    "\n",
    "Violation of these rules will result in an **F** and a trip to the Honor Code council.\n",
    "\n",
    "---\n",
    "**By writing your name below, you agree to abide by these rules:**\n",
    "\n",
    "**Your name: John Furlong**\n",
    "\n",
    "---\n"
   ]
  },
  {
   "cell_type": "code",
   "execution_count": 150,
   "metadata": {},
   "outputs": [],
   "source": [
    "import pandas as pd\n",
    "import numpy as np\n",
    "import scipy.stats as stats\n",
    "from scipy.stats import norm\n",
    "import matplotlib.pyplot as plt\n",
    "from collections import defaultdict\n",
    "\n",
    "# added packages\n",
    "import heapq\n",
    "from matplotlib import colors"
   ]
  },
  {
   "cell_type": "markdown",
   "metadata": {},
   "source": [
    "---\n",
    "## [50 pts] Problem 1:  Route-finding\n",
    "\n",
    "Consider the map of the area to the west of the Engineering Center given below, with a fairly coarse Cartesian grid superimposed.\n",
    "\n",
    "<img src=\"http://www.cs.colorado.edu/~tonyewong/home/resources/engineering_center_grid_zoom.png\" style=\"width: 800px;\"/>\n",
    "\n",
    "The green square at $(x,y)=(1,15)$ is the starting location, and you would like to walk from there to the yellow square at $(25,9)$ with the **shortest total path length**. The filled-in blue squares are obstacles, and you cannot walk through those locations.  You also cannot walk outside of this grid.\n",
    "\n",
    "Legal moves in the North/South/East/West directions have a step cost of 1. Moves in the diagonal direction (for example, from $(1,15)$ to $(2,14)$) are allowed, but they have a step cost of $\\sqrt{2}$. \n",
    "\n",
    "Of course, you can probably do this problem (and likely have to some degree, in your head) without a search algorithm. But that will hopefully provide a useful \"sanity check\" for your answer.\n",
    "\n",
    "#### Part A\n",
    "Write a function `adjacent_states(state)`:\n",
    "* takes a single argument `state`, which is a tuple representing a valid state in this state space\n",
    "* returns in some form the states reachable from `state` and the step costs. How exactly you do this is up to you.\n",
    "\n",
    "Print to the screen the output for `adjacent_states((1,15))`."
   ]
  },
  {
   "cell_type": "code",
   "execution_count": 151,
   "metadata": {},
   "outputs": [],
   "source": [
    "obstacles = [(1, 2), (1,3), (1,4), (1,5), (1,6), (1,7), (1,8), (1,9), (1,10), (1,11), (1,12), (1,13), (1,14),\n",
    "            (2, 3), (2,4), (2,5),(2,6), (2,7), (2,8),(2,9),(2,10),(2,11),(2,12),(2,13),\n",
    "            (3,4),(3,5),(3,6),(3,7),(3,8),(3,9), (3,10),(3,11),(3,12),\n",
    "            (4,5), (4,6),(4,7),(4,8),(4,9),(4,10),(4,11),\n",
    "            (5,1), (6,1),(7,1),(8,1),(9,1),(10,1),(11,1),(12,1),(13,1),(14,1), (15,1),(16,1),(17,1),(18,1),(19,1),\n",
    "            (20,1), (21,1),(22,1),(23,1), (10,9), (10,10),(10,11),(10,12),(11,9) ,(11,10),(11,11),(11,12),(11,13),(11,14),\n",
    "            (12,9),(12,10),(12,11),(12,12),(12,13),(12,14),(13,9),(13,10),(13,11),(13,12),(13,13),(13,14),(14,11),(14,12),\n",
    "            (14,13),(14,14), (21,11),(21,12),(21,13),(21,14),(21,15),(21,16),(22,11),(22,12),(22,13),(22,14),(22,15),(22,16),\n",
    "            (23,11),(23,12),(23,13),(23,14),(23,15),(23,16),(24,11),(24,12),(24,13),(24,14),(24,15),(24,16),(25,11),(25,12),\n",
    "            (25,13),(25,14),(25,15),(25,16)]"
   ]
  },
  {
   "cell_type": "code",
   "execution_count": 152,
   "metadata": {},
   "outputs": [],
   "source": [
    "def adjacent_states(state, obstacles, ncol, nrow):\n",
    "    adjacents = []\n",
    "    x = state[0]\n",
    "    y = state[1]\n",
    "    \n",
    "    # North\n",
    "    if((x, y+1) not in obstacles) and (y+1 <= nrow):\n",
    "        adjacents.append((x, y+1))\n",
    "        \n",
    "    # North-East\n",
    "    if((x+1, y+1) not in obstacles) and (x+1 <= ncol):\n",
    "        adjacents.append((x+1, y+1))\n",
    "        \n",
    "    # East\n",
    "    if((x+1, y) not in obstacles) and (x+1 <= ncol):\n",
    "        adjacents.append((x+1, y))\n",
    "    \n",
    "    # South-East\n",
    "    if((x+1, y-1) not in obstacles) and (x+1 <= ncol) and (y-1 > 0):\n",
    "        adjacents.append((x+1, y-1))\n",
    "    \n",
    "    # South\n",
    "    if((x, y-1) not in obstacles) and (y-1 > 0):\n",
    "        adjacents.append((x,y-1))\n",
    "    \n",
    "    # South-West\n",
    "    if((x-1, y-1) not in obstacles) and (x-1 > 0) and (y-1 > 0):\n",
    "        adjacents.append((x-1, y-1))\n",
    "    # West\n",
    "    if((x-1, y) not in obstacles) and (x-1 > 0):\n",
    "        adjacents.append((x-1, y))\n",
    "    \n",
    "    # North-West\n",
    "    if((x-1, y+1) not in adjacents) and (x-1 > 0) and (y+1 <= nrow):\n",
    "        adjacents.append((x-1,y+1))\n",
    "    \n",
    "    return adjacents"
   ]
  },
  {
   "cell_type": "code",
   "execution_count": 153,
   "metadata": {},
   "outputs": [
    {
     "name": "stdout",
     "output_type": "stream",
     "text": [
      "[(1, 16), (2, 16), (2, 15), (2, 14)]\n"
     ]
    }
   ],
   "source": [
    "print(adjacent_states((1,15), obstacles, ncol=25, nrow=16))"
   ]
  },
  {
   "cell_type": "markdown",
   "metadata": {},
   "source": [
    "#### Part B\n",
    "Three candidate heuristic functions might be:\n",
    "1. `heuristic_cols(state, goal)` = number of columns between the argument `state` and the `goal`\n",
    "1. `heuristic_rows(state, goal)` = number of rows between the argument `state` and the `goal`\n",
    "1. `heuristic_eucl(state, goal)` = Euclidean distance between the argument `state` and the `goal`\n",
    "\n",
    "Write a function `heuristic_max(state, goal)` that returns the maximum of all three of these heuristic functions for a given `state` and `goal`."
   ]
  },
  {
   "cell_type": "code",
   "execution_count": 154,
   "metadata": {},
   "outputs": [],
   "source": [
    "def heuristic_cols(state, goal):\n",
    "    return abs(state[0] - goal[0])\n",
    "\n",
    "def heuristic_rows(state, goal):\n",
    "    return abs(state[1] - goal[1])\n",
    "\n",
    "def heuristic_eucl(state, goal):\n",
    "    return(heuristic_rows(state, goal)**2 + heuristic_cols(state,goal)**2)**0.5\n",
    "    \n",
    "def heuristic_max(state, goal):\n",
    "    return max(heuristic_cols(state, goal), heuristic_rows(state, goal), heuristic_eucl(state, goal))"
   ]
  },
  {
   "cell_type": "code",
   "execution_count": 155,
   "metadata": {},
   "outputs": [
    {
     "name": "stdout",
     "output_type": "stream",
     "text": [
      "3\n"
     ]
    }
   ],
   "source": [
    "print(heuristic_max((1,15), (4,15)))"
   ]
  },
  {
   "cell_type": "markdown",
   "metadata": {},
   "source": [
    "#### Part C\n",
    "Is the Manhattan distance an admissible heuristic function for this problem?  Explain why or why not."
   ]
  },
  {
   "cell_type": "markdown",
   "metadata": {},
   "source": [
    "**An admissible heuristic can never overestimate the cost (number of moves) to arrive at its target state. Diagonal moves are allowed in this problem, which means that Manhattan distance is not admissible. For example, if the cost to move from the bottom left corner (1,1) to (2,2) would require moving to the right (1,2) then up to (2,2) for a toal Manhattan distance (cost) of 2. Instead of moving right, then up, we could have just moved directly from (1,1) to (2,2) for a cost of $\\sqrt{2}$. This means that the Manhattan distance heuristic overestimated the cost of reaching the goal and therefore is not an admissible heuristic.**"
   ]
  },
  {
   "cell_type": "markdown",
   "metadata": {},
   "source": [
    "#### Part D\n",
    "Use A\\* search and the `heuristic_max` heuristic to find the shortest path from the initial state at $(1,15)$ to the goal state at $(25,9)$. Your search **should not** build up the entire state space graph in memory. Instead, use the `adjacent_states` function from Part A, similarly to the 8-tile problem from Homework 3."
   ]
  },
  {
   "cell_type": "code",
   "execution_count": 156,
   "metadata": {},
   "outputs": [],
   "source": [
    "def path(previous, s): \n",
    "    '''\n",
    "    `previous` is a dictionary chaining together the predecessor state that led to each state\n",
    "    `s` will be None for the initial state\n",
    "    otherwise, start from the last state `s` and recursively trace `previous` back to the initial state,\n",
    "    constructing a list of states visited as we go\n",
    "    '''\n",
    "    if s is None:\n",
    "        return []\n",
    "    else:\n",
    "        return path(previous, previous[s])+[s]\n",
    "    \n",
    "def step_costs(s, s_prime):\n",
    "    # North\n",
    "    if(s_prime[1] - 1 == s[1]) and (s_prime[0] == s[0]):\n",
    "        return 1\n",
    "    # East\n",
    "    if(s_prime[0] - 1 == s[0]) and (s_prime[1] == s[1]):\n",
    "        return 1\n",
    "    # South\n",
    "    if(s_prime[1] + 1 == s[1]) and (s_prime[0] == s[0]):\n",
    "        return 1\n",
    "    # West\n",
    "    if(s_prime[0] + 1 == s[0]) and (s_prime[1] == s[1]):\n",
    "        return 1\n",
    "    # North-East\n",
    "    if(s_prime[1] - 1 == s[1]) and (s_prime[0] - 1 == s[0]):\n",
    "        return 1.4142135624\n",
    "    # South-East\n",
    "    if(s_prime[1] + 1 == s[1]) and (s_prime[0] - 1 == s[0]):\n",
    "        return 1.4142135624\n",
    "    # South-West\n",
    "    if(s_prime[1] + 1 == s[1]) and (s_prime[0] + 1 == s[0]):\n",
    "        return 1.4142135624\n",
    "    # North-West\n",
    "    if(s_prime[1] - 1 == s[1]) and (s_prime[0] + 1 == s[0]):\n",
    "        return 1.4142135624\n",
    "\n",
    "def pathcost(path, step_costs):\n",
    "    '''\n",
    "    add up the step costs along a path, which is assumed to be a list output from the `path` function above\n",
    "    '''\n",
    "    cost = 0\n",
    "    for s in range(len(path)-1):\n",
    "        cost += step_costs(path[s], path[s+1])\n",
    "    return cost\n",
    "\n",
    "\n",
    "class Frontier_PQ:\n",
    "    def __init__(self, start, cost):\n",
    "        self.states = {}\n",
    "        self.q = []\n",
    "        self.add(start, cost)\n",
    "        \n",
    "    def add(self, state, cost):\n",
    "        heapq.heappush(self.q, (cost, state))\n",
    "        self.states[state] = cost\n",
    "        \n",
    "    def pop(self):\n",
    "        (cost, state) = heapq.heappop(self.q)\n",
    "        self.states.pop(state)\n",
    "        return (cost,state)\n",
    "    \n",
    "    def replace(self, state, cost):\n",
    "        self.states[state] = cost\n",
    "        for i, (oldcost, oldstate) in enumerate(self.q):\n",
    "            if oldstate == state and oldcost > cost:\n",
    "                self.q[i] = (cost, state)\n",
    "                heapq._siftdown(self.q, 0, i)\n",
    "        return\n",
    "    \n",
    "    \n",
    "def astar(start, goal, obstacles, nrow, ncol):\n",
    "    \n",
    "    frontier = Frontier_PQ(start, 0)\n",
    "    previous = {start : None}\n",
    "    explored = {}\n",
    "    n_exp = 0\n",
    "    while frontier:\n",
    "        s = frontier.pop()\n",
    "        n_exp += 1\n",
    "        if s[1] == goal:\n",
    "            return (path(previous, s[1])), pathcost(path(previous, s[1]), step_costs)\n",
    "        explored[s[1]] = len(path(previous, s[1]))-1\n",
    "        adjacents = adjacent_states(s[1], obstacles, ncol, nrow)\n",
    "        for s2 in adjacents:\n",
    "            newcost = explored[s[1]] + 1 + heuristic_max(s2, goal)\n",
    "            if(s2 not in explored) and (s2 not in frontier.states):\n",
    "                frontier.add(s2, newcost)\n",
    "                previous[s2] = s[1]\n",
    "            elif(s2 in frontier.states) and (frontier.states[s2] > newcost):\n",
    "                frontier.replace(s2, newcost)\n",
    "                previous[s2] = s[1]"
   ]
  },
  {
   "cell_type": "code",
   "execution_count": 157,
   "metadata": {},
   "outputs": [
    {
     "name": "stdout",
     "output_type": "stream",
     "text": [
      "Shortest Path:  [(1, 15), (2, 14), (3, 13), (4, 12), (5, 11), (6, 10), (7, 10), (8, 10), (9, 9), (10, 8), (11, 8), (12, 8), (13, 8), (14, 9), (15, 10), (16, 10), (17, 10), (18, 10), (19, 10), (20, 10), (21, 10), (22, 10), (23, 10), (24, 10), (25, 10)]\n",
      "Length of Shortest Path:  25\n",
      "Total Path Cost:  27.7279220616\n"
     ]
    }
   ],
   "source": [
    "result = astar(start=(1,15), goal=(25,10), obstacles=obstacles, nrow=16, ncol=25)\n",
    "print(\"Shortest Path: \", result[0])\n",
    "print(\"Length of Shortest Path: \", len(result[0]))\n",
    "print(\"Total Path Cost: \", result[1])\n",
    "astar_path = result[0]"
   ]
  },
  {
   "cell_type": "markdown",
   "metadata": {},
   "source": [
    "#### Part E\n",
    "Make a figure depicting the optimal route from the initial state to the goal, similarly to how you depicted the maze solution in Homework 2."
   ]
  },
  {
   "cell_type": "code",
   "execution_count": 158,
   "metadata": {},
   "outputs": [],
   "source": [
    "def plot(obstacles, path):\n",
    "    environment = np.array([[]])\n",
    "    for i in range(0, 26):\n",
    "        row = np.array([])\n",
    "        for j in range(0, 17):\n",
    "            if((i,j) in obstacles):\n",
    "                row = np.append(row, 0)\n",
    "            row = np.append(row, 1) \n",
    "        environment = np.append(environment, row)\n",
    "    \n",
    "    x_coords, y_coords = [], []\n",
    "    \n",
    "    for i in range(0, len(path)):\n",
    "        x = path[i][0]\n",
    "        y = path[i][1]\n",
    "        x_coords.append(x)\n",
    "        y_coords.append(y)\n",
    "    \n",
    "    fig, ax = plt.subplots(figsize = (14, 7))\n",
    "    path_len = len(path)-1\n",
    "    \n",
    "    x_start, y_start = path[0][0], path[0][1]\n",
    "    x_goal, y_goal = path[path_len][0], path[path_len][1]\n",
    "\n",
    "    ax.scatter(x_start , y_start, marker = \"*\", color = \"red\", s = 200)\n",
    "    ax.scatter(x_goal , y_goal, marker = \"*\", color = \"yellow\", s = 200)\n",
    "    ax.imshow(environment, cmap= plt.cm.Dark2, origin='lower')\n",
    "    ax.plot(y_coords,x_coords, color = \"black\")\n",
    "\n",
    "    plt.show()"
   ]
  },
  {
   "cell_type": "code",
   "execution_count": 159,
   "metadata": {},
   "outputs": [
    {
     "ename": "TypeError",
     "evalue": "Invalid shape (557,) for image data",
     "output_type": "error",
     "traceback": [
      "\u001b[0;31m---------------------------------------------------------------------------\u001b[0m",
      "\u001b[0;31mTypeError\u001b[0m                                 Traceback (most recent call last)",
      "\u001b[0;32m<ipython-input-159-13641c5c0501>\u001b[0m in \u001b[0;36m<module>\u001b[0;34m\u001b[0m\n\u001b[0;32m----> 1\u001b[0;31m \u001b[0mplot\u001b[0m\u001b[0;34m(\u001b[0m\u001b[0mobstacles\u001b[0m\u001b[0;34m,\u001b[0m \u001b[0mastar_path\u001b[0m\u001b[0;34m)\u001b[0m\u001b[0;34m\u001b[0m\u001b[0;34m\u001b[0m\u001b[0m\n\u001b[0m",
      "\u001b[0;32m<ipython-input-158-69723270c711>\u001b[0m in \u001b[0;36mplot\u001b[0;34m(obstacles, path)\u001b[0m\n\u001b[1;32m     25\u001b[0m     \u001b[0max\u001b[0m\u001b[0;34m.\u001b[0m\u001b[0mscatter\u001b[0m\u001b[0;34m(\u001b[0m\u001b[0mx_start\u001b[0m \u001b[0;34m,\u001b[0m \u001b[0my_start\u001b[0m\u001b[0;34m,\u001b[0m \u001b[0mmarker\u001b[0m \u001b[0;34m=\u001b[0m \u001b[0;34m\"*\"\u001b[0m\u001b[0;34m,\u001b[0m \u001b[0mcolor\u001b[0m \u001b[0;34m=\u001b[0m \u001b[0;34m\"red\"\u001b[0m\u001b[0;34m,\u001b[0m \u001b[0ms\u001b[0m \u001b[0;34m=\u001b[0m \u001b[0;36m200\u001b[0m\u001b[0;34m)\u001b[0m\u001b[0;34m\u001b[0m\u001b[0;34m\u001b[0m\u001b[0m\n\u001b[1;32m     26\u001b[0m     \u001b[0max\u001b[0m\u001b[0;34m.\u001b[0m\u001b[0mscatter\u001b[0m\u001b[0;34m(\u001b[0m\u001b[0mx_goal\u001b[0m \u001b[0;34m,\u001b[0m \u001b[0my_goal\u001b[0m\u001b[0;34m,\u001b[0m \u001b[0mmarker\u001b[0m \u001b[0;34m=\u001b[0m \u001b[0;34m\"*\"\u001b[0m\u001b[0;34m,\u001b[0m \u001b[0mcolor\u001b[0m \u001b[0;34m=\u001b[0m \u001b[0;34m\"yellow\"\u001b[0m\u001b[0;34m,\u001b[0m \u001b[0ms\u001b[0m \u001b[0;34m=\u001b[0m \u001b[0;36m200\u001b[0m\u001b[0;34m)\u001b[0m\u001b[0;34m\u001b[0m\u001b[0;34m\u001b[0m\u001b[0m\n\u001b[0;32m---> 27\u001b[0;31m     \u001b[0max\u001b[0m\u001b[0;34m.\u001b[0m\u001b[0mimshow\u001b[0m\u001b[0;34m(\u001b[0m\u001b[0menvironment\u001b[0m\u001b[0;34m,\u001b[0m \u001b[0mcmap\u001b[0m\u001b[0;34m=\u001b[0m \u001b[0mplt\u001b[0m\u001b[0;34m.\u001b[0m\u001b[0mcm\u001b[0m\u001b[0;34m.\u001b[0m\u001b[0mDark2\u001b[0m\u001b[0;34m,\u001b[0m \u001b[0morigin\u001b[0m\u001b[0;34m=\u001b[0m\u001b[0;34m'lower'\u001b[0m\u001b[0;34m)\u001b[0m\u001b[0;34m\u001b[0m\u001b[0;34m\u001b[0m\u001b[0m\n\u001b[0m\u001b[1;32m     28\u001b[0m     \u001b[0max\u001b[0m\u001b[0;34m.\u001b[0m\u001b[0mplot\u001b[0m\u001b[0;34m(\u001b[0m\u001b[0my_coords\u001b[0m\u001b[0;34m,\u001b[0m\u001b[0mx_coords\u001b[0m\u001b[0;34m,\u001b[0m \u001b[0mcolor\u001b[0m \u001b[0;34m=\u001b[0m \u001b[0;34m\"black\"\u001b[0m\u001b[0;34m)\u001b[0m\u001b[0;34m\u001b[0m\u001b[0;34m\u001b[0m\u001b[0m\n\u001b[1;32m     29\u001b[0m \u001b[0;34m\u001b[0m\u001b[0m\n",
      "\u001b[0;32m~/anaconda3/lib/python3.7/site-packages/matplotlib/__init__.py\u001b[0m in \u001b[0;36minner\u001b[0;34m(ax, data, *args, **kwargs)\u001b[0m\n\u001b[1;32m   1587\u001b[0m     \u001b[0;32mdef\u001b[0m \u001b[0minner\u001b[0m\u001b[0;34m(\u001b[0m\u001b[0max\u001b[0m\u001b[0;34m,\u001b[0m \u001b[0;34m*\u001b[0m\u001b[0margs\u001b[0m\u001b[0;34m,\u001b[0m \u001b[0mdata\u001b[0m\u001b[0;34m=\u001b[0m\u001b[0;32mNone\u001b[0m\u001b[0;34m,\u001b[0m \u001b[0;34m**\u001b[0m\u001b[0mkwargs\u001b[0m\u001b[0;34m)\u001b[0m\u001b[0;34m:\u001b[0m\u001b[0;34m\u001b[0m\u001b[0;34m\u001b[0m\u001b[0m\n\u001b[1;32m   1588\u001b[0m         \u001b[0;32mif\u001b[0m \u001b[0mdata\u001b[0m \u001b[0;32mis\u001b[0m \u001b[0;32mNone\u001b[0m\u001b[0;34m:\u001b[0m\u001b[0;34m\u001b[0m\u001b[0;34m\u001b[0m\u001b[0m\n\u001b[0;32m-> 1589\u001b[0;31m             \u001b[0;32mreturn\u001b[0m \u001b[0mfunc\u001b[0m\u001b[0;34m(\u001b[0m\u001b[0max\u001b[0m\u001b[0;34m,\u001b[0m \u001b[0;34m*\u001b[0m\u001b[0mmap\u001b[0m\u001b[0;34m(\u001b[0m\u001b[0msanitize_sequence\u001b[0m\u001b[0;34m,\u001b[0m \u001b[0margs\u001b[0m\u001b[0;34m)\u001b[0m\u001b[0;34m,\u001b[0m \u001b[0;34m**\u001b[0m\u001b[0mkwargs\u001b[0m\u001b[0;34m)\u001b[0m\u001b[0;34m\u001b[0m\u001b[0;34m\u001b[0m\u001b[0m\n\u001b[0m\u001b[1;32m   1590\u001b[0m \u001b[0;34m\u001b[0m\u001b[0m\n\u001b[1;32m   1591\u001b[0m         \u001b[0mbound\u001b[0m \u001b[0;34m=\u001b[0m \u001b[0mnew_sig\u001b[0m\u001b[0;34m.\u001b[0m\u001b[0mbind\u001b[0m\u001b[0;34m(\u001b[0m\u001b[0max\u001b[0m\u001b[0;34m,\u001b[0m \u001b[0;34m*\u001b[0m\u001b[0margs\u001b[0m\u001b[0;34m,\u001b[0m \u001b[0;34m**\u001b[0m\u001b[0mkwargs\u001b[0m\u001b[0;34m)\u001b[0m\u001b[0;34m\u001b[0m\u001b[0;34m\u001b[0m\u001b[0m\n",
      "\u001b[0;32m~/anaconda3/lib/python3.7/site-packages/matplotlib/cbook/deprecation.py\u001b[0m in \u001b[0;36mwrapper\u001b[0;34m(*args, **kwargs)\u001b[0m\n\u001b[1;32m    367\u001b[0m                 \u001b[0;34mf\"%(removal)s.  If any parameter follows {name!r}, they \"\u001b[0m\u001b[0;34m\u001b[0m\u001b[0;34m\u001b[0m\u001b[0m\n\u001b[1;32m    368\u001b[0m                 f\"should be pass as keyword, not positionally.\")\n\u001b[0;32m--> 369\u001b[0;31m         \u001b[0;32mreturn\u001b[0m \u001b[0mfunc\u001b[0m\u001b[0;34m(\u001b[0m\u001b[0;34m*\u001b[0m\u001b[0margs\u001b[0m\u001b[0;34m,\u001b[0m \u001b[0;34m**\u001b[0m\u001b[0mkwargs\u001b[0m\u001b[0;34m)\u001b[0m\u001b[0;34m\u001b[0m\u001b[0;34m\u001b[0m\u001b[0m\n\u001b[0m\u001b[1;32m    370\u001b[0m \u001b[0;34m\u001b[0m\u001b[0m\n\u001b[1;32m    371\u001b[0m     \u001b[0;32mreturn\u001b[0m \u001b[0mwrapper\u001b[0m\u001b[0;34m\u001b[0m\u001b[0;34m\u001b[0m\u001b[0m\n",
      "\u001b[0;32m~/anaconda3/lib/python3.7/site-packages/matplotlib/cbook/deprecation.py\u001b[0m in \u001b[0;36mwrapper\u001b[0;34m(*args, **kwargs)\u001b[0m\n\u001b[1;32m    367\u001b[0m                 \u001b[0;34mf\"%(removal)s.  If any parameter follows {name!r}, they \"\u001b[0m\u001b[0;34m\u001b[0m\u001b[0;34m\u001b[0m\u001b[0m\n\u001b[1;32m    368\u001b[0m                 f\"should be pass as keyword, not positionally.\")\n\u001b[0;32m--> 369\u001b[0;31m         \u001b[0;32mreturn\u001b[0m \u001b[0mfunc\u001b[0m\u001b[0;34m(\u001b[0m\u001b[0;34m*\u001b[0m\u001b[0margs\u001b[0m\u001b[0;34m,\u001b[0m \u001b[0;34m**\u001b[0m\u001b[0mkwargs\u001b[0m\u001b[0;34m)\u001b[0m\u001b[0;34m\u001b[0m\u001b[0;34m\u001b[0m\u001b[0m\n\u001b[0m\u001b[1;32m    370\u001b[0m \u001b[0;34m\u001b[0m\u001b[0m\n\u001b[1;32m    371\u001b[0m     \u001b[0;32mreturn\u001b[0m \u001b[0mwrapper\u001b[0m\u001b[0;34m\u001b[0m\u001b[0;34m\u001b[0m\u001b[0m\n",
      "\u001b[0;32m~/anaconda3/lib/python3.7/site-packages/matplotlib/axes/_axes.py\u001b[0m in \u001b[0;36mimshow\u001b[0;34m(self, X, cmap, norm, aspect, interpolation, alpha, vmin, vmax, origin, extent, shape, filternorm, filterrad, imlim, resample, url, **kwargs)\u001b[0m\n\u001b[1;32m   5658\u001b[0m                               resample=resample, **kwargs)\n\u001b[1;32m   5659\u001b[0m \u001b[0;34m\u001b[0m\u001b[0m\n\u001b[0;32m-> 5660\u001b[0;31m         \u001b[0mim\u001b[0m\u001b[0;34m.\u001b[0m\u001b[0mset_data\u001b[0m\u001b[0;34m(\u001b[0m\u001b[0mX\u001b[0m\u001b[0;34m)\u001b[0m\u001b[0;34m\u001b[0m\u001b[0;34m\u001b[0m\u001b[0m\n\u001b[0m\u001b[1;32m   5661\u001b[0m         \u001b[0mim\u001b[0m\u001b[0;34m.\u001b[0m\u001b[0mset_alpha\u001b[0m\u001b[0;34m(\u001b[0m\u001b[0malpha\u001b[0m\u001b[0;34m)\u001b[0m\u001b[0;34m\u001b[0m\u001b[0;34m\u001b[0m\u001b[0m\n\u001b[1;32m   5662\u001b[0m         \u001b[0;32mif\u001b[0m \u001b[0mim\u001b[0m\u001b[0;34m.\u001b[0m\u001b[0mget_clip_path\u001b[0m\u001b[0;34m(\u001b[0m\u001b[0;34m)\u001b[0m \u001b[0;32mis\u001b[0m \u001b[0;32mNone\u001b[0m\u001b[0;34m:\u001b[0m\u001b[0;34m\u001b[0m\u001b[0;34m\u001b[0m\u001b[0m\n",
      "\u001b[0;32m~/anaconda3/lib/python3.7/site-packages/matplotlib/image.py\u001b[0m in \u001b[0;36mset_data\u001b[0;34m(self, A)\u001b[0m\n\u001b[1;32m    681\u001b[0m                 or self._A.ndim == 3 and self._A.shape[-1] in [3, 4]):\n\u001b[1;32m    682\u001b[0m             raise TypeError(\"Invalid shape {} for image data\"\n\u001b[0;32m--> 683\u001b[0;31m                             .format(self._A.shape))\n\u001b[0m\u001b[1;32m    684\u001b[0m \u001b[0;34m\u001b[0m\u001b[0m\n\u001b[1;32m    685\u001b[0m         \u001b[0;32mif\u001b[0m \u001b[0mself\u001b[0m\u001b[0;34m.\u001b[0m\u001b[0m_A\u001b[0m\u001b[0;34m.\u001b[0m\u001b[0mndim\u001b[0m \u001b[0;34m==\u001b[0m \u001b[0;36m3\u001b[0m\u001b[0;34m:\u001b[0m\u001b[0;34m\u001b[0m\u001b[0;34m\u001b[0m\u001b[0m\n",
      "\u001b[0;31mTypeError\u001b[0m: Invalid shape (557,) for image data"
     ]
    },
    {
     "data": {
      "image/png": "[encoded data removed]",
      "text/plain": [
       "<Figure size 1008x504 with 1 Axes>"
      ]
     },
     "metadata": {
      "needs_background": "light"
     },
     "output_type": "display_data"
    }
   ],
   "source": [
    "plot(obstacles, astar_path)"
   ]
  },
  {
   "cell_type": "markdown",
   "metadata": {},
   "source": [
    "\n",
    "---\n",
    "## [50 pts] Problem 2:  Bayesian networks\n",
    "\n",
    "#### Part A\n",
    "In this problem, we are going to construct our own Bayesian Network. The probabilities are not given outright. You will use the data file mentioned below to determine the appropriate probability distributions for each node in the Bayes net. \n",
    "\n",
    "Suppose we are about to go on a run and are trying to decide how far to run. Consider the Bayesian network depicted below for this decision. The length of our run ($R$, miles) is continuous and depends on the temperature ($T$, degrees Fahrenheit), which is also a continuous variable, and whether or not it is raining ($P$), which is a discrete Boolean variable.\n",
    "\n",
    "<img src=\"http://www.cs.colorado.edu/~tonyewong/home/resources/running_bayesnet.png\" style=\"width: 450px;\"/>\n",
    "\n",
    "1. Read in the data set [`data_running.csv`] from the Final Practicum Moodle folder. Read in the file as a pandas data frame.\n",
    "\n",
    "Answer/Complete the following:\n",
    "1. How many data points are there?\n",
    "1. Make a histogram of the distribution of temperature, with appropriate axis labels."
   ]
  },
  {
   "cell_type": "code",
   "execution_count": 160,
   "metadata": {},
   "outputs": [
    {
     "name": "stdout",
     "output_type": "stream",
     "text": [
      "Number of Data Points:  199\n"
     ]
    },
    {
     "data": {
      "image/png": "[encoded data removed]",
      "text/plain": [
       "<Figure size 432x288 with 1 Axes>"
      ]
     },
     "metadata": {
      "needs_background": "light"
     },
     "output_type": "display_data"
    }
   ],
   "source": [
    "bayesnet = pd.read_csv('data_running.csv')\n",
    "df = pd.DataFrame(bayesnet)\n",
    "temps = df[\"temperature\"]\n",
    "\n",
    "print(\"Number of Data Points: \", len(df)-1)  # -1 since the first row is column names\n",
    "\n",
    "plt.hist(temps)\n",
    "plt.title(\"Histogram of Temperatures\")\n",
    "plt.ylabel(\"Frequency (# of days)\")\n",
    "plt.xlabel(\"Temperature\")\n",
    "plt.show()"
   ]
  },
  {
   "cell_type": "markdown",
   "metadata": {},
   "source": [
    "#### Part B\n",
    "\n",
    "Using the data from the file in **Part A**, decide on appropriate prior distributions for $P$ and $T$.  Note that $P$ is discrete (Boolean), while $T$ is continuous.  \n",
    "\n",
    "Further guidance on what I am asking:\n",
    "\n",
    "So, for the distribution of $P$, you must determine P(P=True) and P(P=False). \n",
    "\n",
    "For T, study the histogram from **Part A**. Does the shape of the histogram remind you of any probability distribution you've seen before? We haven't seen a continuous probability distribution in class. However, the idea is the same as a discrete probability distribution. \n",
    "\n",
    "Continuous dsitributions you may or may not have encountered: Exponential, Uniform, Weibull, Normal, Chi-Squared, Logistic, Student-T, F. \n",
    "\n",
    "Choose a continuous distribution that fits $T$ and specify the appropriate parameters.\n"
   ]
  },
  {
   "cell_type": "code",
   "execution_count": 161,
   "metadata": {},
   "outputs": [],
   "source": [
    "def priors(df):\n",
    "    # Prior for P\n",
    "    P_true = 0\n",
    "    p = dict()\n",
    "    for i in range(0, len(df)):\n",
    "        if(df[\"rain\"][i] == \"Yes\"):\n",
    "            P_true += 1\n",
    "    p[\"true\"] = P_true / 199\n",
    "    p[\"false\"] = 1 - p[\"true\"]\n",
    "    \n",
    "    # Prior for T\n",
    "    sample_mean = np.mean(df[\"temperature\"])\n",
    "    sample_stdev = np.var(df[\"temperature\"])**0.5\n",
    "    std_err = sample_stdev / (len(df)-1)**0.5\n",
    "    \n",
    "    t = [sample_mean + np.random.normal()* std_err for i in range(len(df))]\n",
    "    \n",
    "    return p, t"
   ]
  },
  {
   "cell_type": "code",
   "execution_count": 166,
   "metadata": {},
   "outputs": [
    {
     "data": {
      "image/png": "[encoded data removed]",
      "text/plain": [
       "<Figure size 432x288 with 1 Axes>"
      ]
     },
     "metadata": {
      "needs_background": "light"
     },
     "output_type": "display_data"
    }
   ],
   "source": [
    "p, t = priors(df)\n",
    "plt.hist(t)\n",
    "plt.title(\"Histogram of Temperature Distribution (Gaussian)\")\n",
    "plt.ylabel(\"Frequency (# of days)\")\n",
    "plt.xlabel(\"Temperature\")\n",
    "plt.show()"
   ]
  },
  {
   "cell_type": "markdown",
   "metadata": {},
   "source": [
    "#### Part C\n",
    "\n",
    "Make two scatter plots:  one of the relationship between temperature (x-axis) and run length (y-axis) for only the days when it was raining, and one of this relationship for only the days when it was not raining. Label your axes appropriately. All of this data is contained in the csv file that you read in for **Part A**.\n"
   ]
  },
  {
   "cell_type": "code",
   "execution_count": 181,
   "metadata": {},
   "outputs": [
    {
     "data": {
      "image/png": "[encoded data removed]",
      "text/plain": [
       "<Figure size 432x288 with 1 Axes>"
      ]
     },
     "metadata": {
      "needs_background": "light"
     },
     "output_type": "display_data"
    }
   ],
   "source": [
    "def plots(df):\n",
    "    # Find days that it was raining\n",
    "    rainx = []\n",
    "    rainy = []\n",
    "    norainx = []\n",
    "    norainy = []\n",
    "    for i in range(0, len(df)):\n",
    "        x = df[\"temperature\"][i]\n",
    "        y = df[\"length\"][i]\n",
    "        if(df[\"rain\"][i] == \"Yes\"):\n",
    "            rainx.append(x)\n",
    "            rainy.append(y)\n",
    "        else:\n",
    "            norainx.append(x)\n",
    "            norainy.append(y)\n",
    "    plt.scatter(rainx, rainy, color=\"r\", label=\"Rain\")\n",
    "    plt.scatter(norainx, norainy, color=\"g\", label=\"No Rain\")\n",
    "    plt.legend()\n",
    "    plt.title(\"Temperature vs. Run-Length Given Rain\")\n",
    "    plt.xlabel(\"Temperature\")\n",
    "    plt.ylabel(\"Run Length\")\n",
    "    plt.show()\n",
    "plots(df)"
   ]
  },
  {
   "cell_type": "markdown",
   "metadata": {},
   "source": [
    "#### Part D:\n",
    "\n",
    "This part is done for you as we didn't explicitly talk about regression in this class. Regression is likely a concept you've encountered in previous classes, so please review what's done here and make sure you understand before proceeding.\n",
    "\n",
    "Now, we need to specify the Conditional Probability table for Run length, R. Run length is necessarily non-negative, so we use a log-normal distribution as the conditional probability distribution for $R$, given $P$ and $T$. Let the log-normal parameter related to central tendency vary linearly with $T$, and categorically depending on whether or not it is raining. Keep the log-normal parameter related to distribution spread fixed. \n",
    "\n",
    "Lastly, we report the values of all relevant estimated parameters for the conditional probability distribution. "
   ]
  },
  {
   "cell_type": "code",
   "execution_count": 187,
   "metadata": {},
   "outputs": [
    {
     "name": "stdout",
     "output_type": "stream",
     "text": [
      "Log-linear regression with no rain: intercept=1.9087, slope=0.0049\n",
      "Log-linear regression with rain: intercept=1.9185, slope=0.0014\n",
      "Estimate of spread, regardless of rain: 0.1396\n"
     ]
    }
   ],
   "source": [
    "\n",
    "# We are doing a simple linear regression for log(R) = alpha + beta*T, \n",
    "# where different alpha and beta are estimated for +Rain and -Rain.\n",
    "\n",
    "lr_no = stats.linregress(df.loc[df['rain']=='No','temperature'], np.log(df.loc[df['rain']=='No','length']))\n",
    "lr_yes = stats.linregress(df.loc[df['rain']=='Yes','temperature'], np.log(df.loc[df['rain']=='Yes','length']))\n",
    "alpha_no, beta_no = lr_no.intercept, lr_no.slope\n",
    "alpha_yes, beta_yes = lr_yes.intercept, lr_yes.slope\n",
    "sigma = np.std(np.log(df['length']))\n",
    "\n",
    "# report the parameter fits\n",
    "print('Log-linear regression with no rain: intercept={:0.4f}, slope={:0.4f}'.format(alpha_no, beta_no))\n",
    "print('Log-linear regression with rain: intercept={:0.4f}, slope={:0.4f}'.format(alpha_yes, beta_yes))\n",
    "print('Estimate of spread, regardless of rain: {:0.4f}'.format(sigma))"
   ]
  },
  {
   "cell_type": "markdown",
   "metadata": {},
   "source": [
    "#### Part E\n",
    "\n",
    "The following code graphs out conditional probability distributions for R given a specific temperature and rain versus no rain. \n",
    "\n",
    "Specifically the graphs show the probability distributions for your run length on a day that is 80 degrees Fahrenheit and not raining, as well as run length on an 80-degree day when it is raining.  These two distributions are plotted on the same set of axes, with run length (miles) on the x-axis and probability density on the y-axis. "
   ]
  },
  {
   "cell_type": "code",
   "execution_count": 188,
   "metadata": {},
   "outputs": [
    {
     "data": {
      "image/png": "[encoded data removed]",
      "text/plain": [
       "<Figure size 432x288 with 1 Axes>"
      ]
     },
     "metadata": {
      "needs_background": "light"
     },
     "output_type": "display_data"
    }
   ],
   "source": [
    "r = np.arange(0.25,15.25,0.25)\n",
    "mu_no = alpha_no + beta_no*80\n",
    "pdf_no = [stats.lognorm.pdf(x=rx, scale=np.exp(mu_no), s=sigma) for rx in r]\n",
    "mu_yes = alpha_yes + beta_yes*80\n",
    "pdf_yes = [stats.lognorm.pdf(x=rx, scale=np.exp(mu_yes), s=sigma) for rx in r]\n",
    "\n",
    "plt.plot(r, pdf_no, label='No rain')\n",
    "plt.plot(r, pdf_yes, label='Rain')\n",
    "plt.xlabel('Length of run [miles]')\n",
    "plt.ylabel('Probability density [-]')\n",
    "plt.legend()\n",
    "plt.show()"
   ]
  },
  {
   "cell_type": "markdown",
   "metadata": {},
   "source": [
    "Given this, find the following:\n",
    "- $P(R = 8 | P=T, Temp = 70)$\n",
    "- $P(R = 8 | P=F, Temp = 70)$\n",
    "\n",
    "Note: What's given about is an example of all of the probability values for R when the temperature is 80 degrees. Your task is to figure out how to compute the specific probabilities I've asked about."
   ]
  },
  {
   "cell_type": "code",
   "execution_count": 205,
   "metadata": {},
   "outputs": [
    {
     "data": {
      "image/png": "[encoded data removed]",
      "text/plain": [
       "<Figure size 432x288 with 1 Axes>"
      ]
     },
     "metadata": {
      "needs_background": "light"
     },
     "output_type": "display_data"
    },
    {
     "name": "stdout",
     "output_type": "stream",
     "text": [
      "Location of PDF where R = 8:  (array([31]),) \n",
      "\n",
      "Probability of R = 8, when it is 70 degress and raining:  33.0 %\n",
      "\n",
      "Probability of R = 8, when it is 70 degress and no rain:  17.0 %\n",
      "\n"
     ]
    }
   ],
   "source": [
    "# Conditional Probabilitiy Distribution of Run Length (R) for Temp = 70 degress for rainy & not rainy days\n",
    "r = np.arange(0.25,15.25,0.25)\n",
    "mu_no = alpha_no + beta_no*70\n",
    "pdf_no = [stats.lognorm.pdf(x=rx, scale=np.exp(mu_no), s=sigma) for rx in r]\n",
    "mu_yes = alpha_yes + beta_yes*70\n",
    "pdf_yes = [stats.lognorm.pdf(x=rx, scale=np.exp(mu_yes), s=sigma) for rx in r]\n",
    "\n",
    "plt.plot(r, pdf_no, label='No rain')\n",
    "plt.plot(r, pdf_yes, label='Rain')\n",
    "plt.xlabel('Length of run [miles]')\n",
    "plt.ylabel('Probability density [-]')\n",
    "plt.legend()\n",
    "plt.show()\n",
    "print(\"Location of PDF where R = 8: \", np.where(r==8), '\\n')\n",
    "print(\"Probability of R = 8, when it is 70 degress and raining: \", 100* round(pdf_yes[31],2), '%\\n')\n",
    "print(\"Probability of R = 8, when it is 70 degress and no rain: \", 100* round(pdf_no[31],2), '%\\n')"
   ]
  },
  {
   "cell_type": "markdown",
   "metadata": {},
   "source": [
    "#### Part F\n",
    "\n",
    "If you made it this far, we now have a working Bayesian Network with the CPTs specified!\n",
    "\n",
    "Now we will get a chance to actually perform sampling from a Bayesian Network. I briefly talked about this in lecture, but I will walk you through the steps. It's a really cool way to use a Bayesian Network. Please read the comments in the code below and fill in where indicated. Specifically, look for the \"# Your code here.\" comments.\n",
    "\n",
    "We are going to estimate the probability of going on a run **at least** 8 miles in length. "
   ]
  },
  {
   "cell_type": "code",
   "execution_count": 245,
   "metadata": {},
   "outputs": [],
   "source": [
    "def one_f(DF):\n",
    "    lr_no = stats.linregress(DF.loc[DF['rain']=='No','temperature'], np.log(DF.loc[DF['rain']=='No','length']))\n",
    "    lr_yes = stats.linregress(DF.loc[DF['rain']=='Yes','temperature'], np.log(DF.loc[DF['rain']=='Yes','length']))\n",
    "    alpha_no, beta_no = lr_no.intercept, lr_no.slope\n",
    "    alpha_yes, beta_yes = lr_yes.intercept, lr_yes.slope\n",
    "    # We will be taking 10,000 random samples from our Bayesian Network.\n",
    "    n_iter = 10000\n",
    "\n",
    "    # The following line is specifying the threshold run length.\n",
    "    rlength = 8\n",
    "\n",
    "    # Select 10,000 random samples from P prior\n",
    "    # So that we all have the similar answers, set P(rain=True) = 0.3 and\n",
    "    # set P(rain=False) = 0.7\n",
    "    # Hint: you are sampling from a Boolean array with the specified \n",
    "    # probabilities.\n",
    "    rain = np.random.binomial(1, 0.3, n_iter)\n",
    "\n",
    "    sample_mean = np.mean(DF[\"temperature\"])\n",
    "    sample_stdev = np.var(DF[\"temperature\"])**0.5\n",
    "    # Select 10,000 random samples from T prior\n",
    "    temp = np.random.normal(sample_mean, sample_stdev, n_iter)\n",
    "\n",
    "    # sample from R | P,T conditional distribution\n",
    "    # Done for you.\n",
    "    run_length = []\n",
    "    for k in range(n_iter):\n",
    "        mu = alpha_yes + beta_yes*temp[k] if rain[k] else alpha_no + beta_no*temp[k]\n",
    "        run_length.append(stats.lognorm.rvs(scale=np.exp(mu), s=sigma))\n",
    "\n",
    "    # Create a data frame with columns for rain, temp, and length. \n",
    "    # The values from the rain column should be the random samples from above.\n",
    "    # The values from the temp column should be the random samples above.\n",
    "    # The values in the length column should be the run_length values from above.\n",
    "\n",
    "    df = pd.DataFrame({\"Rain\" : rain, \"Temp\": temp, \"Run Length\":run_length})\n",
    "\n",
    "    # Using your dfSample dataframe, compute the probability of a run\n",
    "    # greater than or equal to 8 miles.\n",
    "\n",
    "    lr_no = stats.linregress(df.loc[df['Rain']==0,'Temp'], np.log(df.loc[df['Rain']==0,'Run Length']))\n",
    "    lr_yes = stats.linregress(df.loc[df['Rain']==1,'Temp'], np.log(df.loc[df['Rain']==1,'Run Length']))\n",
    "    alpha_no, beta_no = lr_no.intercept, lr_no.slope\n",
    "    alpha_yes, beta_yes = lr_yes.intercept, lr_yes.slope\n",
    "    r = np.arange(0.25,15.25,0.25)\n",
    "    mu_no = alpha_no + beta_no\n",
    "    pdf_no = [stats.lognorm.pdf(x=rx, scale=np.exp(mu_no), s=sigma) for rx in r]\n",
    "    mu_yes = alpha_yes + beta_yes\n",
    "    pdf_yes = [stats.lognorm.pdf(x=rx, scale=np.exp(mu_yes), s=sigma) for rx in r]\n",
    "    \n",
    "    \n",
    "    plt.plot(r, pdf_no, label='No rain')\n",
    "    plt.plot(r, pdf_yes, label='Rain')\n",
    "    plt.xlabel('Length of run [miles]')\n",
    "    plt.ylabel('Probability density [-]')\n",
    "    plt.legend()\n",
    "    plt.show()\n",
    "    \n",
    "    r8 = np.where(r==8)\n",
    "    r8 = np.asscalar(r8[0])\n",
    "    total_p = 0\n",
    "    for k in range(r8, len(pdf_yes)):\n",
    "        total_p += pdf_yes[k]\n",
    "        \n",
    "    print(\"Probability of Running 8 miles or more: \", total_p)"
   ]
  },
  {
   "cell_type": "code",
   "execution_count": 246,
   "metadata": {},
   "outputs": [
    {
     "data": {
      "image/png": "[encoded data removed]",
      "text/plain": [
       "<Figure size 432x288 with 1 Axes>"
      ]
     },
     "metadata": {
      "needs_background": "light"
     },
     "output_type": "display_data"
    },
    {
     "name": "stdout",
     "output_type": "stream",
     "text": [
      "Probability of Running 8 miles or more:  0.7523016999143336\n"
     ]
    }
   ],
   "source": [
    "one_f(df)"
   ]
  },
  {
   "cell_type": "code",
   "execution_count": null,
   "metadata": {},
   "outputs": [],
   "source": []
  }
 ],
 "metadata": {
  "kernelspec": {
   "display_name": "Python 3",
   "language": "python",
   "name": "python3"
  },
  "language_info": {
   "codemirror_mode": {
    "name": "ipython",
    "version": 3
   },
   "file_extension": ".py",
   "mimetype": "text/x-python",
   "name": "python",
   "nbconvert_exporter": "python",
   "pygments_lexer": "ipython3",
   "version": "3.7.3"
  }
 },
 "nbformat": 4,
 "nbformat_minor": 2
}

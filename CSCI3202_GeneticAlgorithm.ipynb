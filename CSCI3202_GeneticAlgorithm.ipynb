{
 "cells": [
  {
   "cell_type": "markdown",
   "metadata": {},
   "source": [
    "# CSCI 3202, Spring 2020\n",
    "\n",
    "# 17 February 2020\n",
    "\n",
    "# In-class notebook:  Genetic Algorithms"
   ]
  },
  {
   "cell_type": "markdown",
   "metadata": {},
   "source": [
    "Before we begin, let's load a few packages that we might find useful."
   ]
  },
  {
   "cell_type": "code",
   "execution_count": null,
   "metadata": {},
   "outputs": [],
   "source": [
    "import numpy as np\n",
    "import matplotlib.pyplot as plt"
   ]
  },
  {
   "cell_type": "markdown",
   "metadata": {},
   "source": [
    "<br>\n",
    "\n",
    "\n",
    "## Maximizing some objective delight\n",
    "\n",
    "Suppose we are packing a lunch a trying to decide what to bring along.  There are four food options in front of us:\n",
    "1. an apple,\n",
    "2. a peanut butter and jelly sandwich,\n",
    "3. a cookie, and\n",
    "4. some gravel.\n",
    "\n",
    "Now we aren't very food-savvy, but we are algorithm-savvy, so we decide to use a ***genetic algorithm*** to decide which of these food items we should pack for lunch.\n",
    "\n",
    "We can represent the `state` of our lunch as a length 4 bit-string.  For example, `state=[1,1,0,1]` represents a lunch that includes an apple, a PB&J, and some gravel, but no cookie. Yum!\n",
    "\n",
    "The first step will be to define some objective function to maximize. Let's call this our `delight` with the `state` of our lunch, if we eat all of the items in the lunch.  I can only speak for myself, but the apple will delight me a bit, the PB&J will delight me a little more than the apple, and the cookie will delight me the most of all! But eating that gravel will **not** delight me. In fact, it will reduce my total delight by a substantial amount."
   ]
  },
  {
   "cell_type": "code",
   "execution_count": null,
   "metadata": {},
   "outputs": [],
   "source": [
    "def delight(state):\n",
    "    # objective function here.\n"
   ]
  },
  {
   "cell_type": "markdown",
   "metadata": {},
   "source": [
    "Let's initialize our genetic algorithm population with each of the four lunches possible by bringing only a single item."
   ]
  },
  {
   "cell_type": "code",
   "execution_count": null,
   "metadata": {},
   "outputs": [],
   "source": [
    "initial_population = # To-Do"
   ]
  },
  {
   "cell_type": "markdown",
   "metadata": {},
   "source": [
    "... And define our class structure to solve this `problem`:"
   ]
  },
  {
   "cell_type": "code",
   "execution_count": null,
   "metadata": {},
   "outputs": [],
   "source": [
    "class problem:\n",
    "    \n",
    "    def __init__(self, initial_population, objective_function, mutation_probability, fitness_goal):\n",
    "        '''\n",
    "        initial_population = list of lists; each sub-list is a dna string for a population member\n",
    "        objective_function = objective function to maximize\n",
    "        mutation_probability = probability that any given child has a mutation\n",
    "        fitness_goal = fitness goal to achieve (stopping criterion, once member reaches this)\n",
    "        '''\n",
    "        \n",
    "    def fitness(self):\n",
    "        '''\n",
    "        calculate each population member's probability of being selected for\n",
    "        reproduction based on performance on objective function\n",
    "        '''\n",
    "        \n",
    "        return p_reproduce\n",
    "        \n",
    "        \n",
    "    def reproduce(self, parent1, parent2):\n",
    "        '''\n",
    "        decide where to make the split in the \"dna\" strands and put one part\n",
    "        of parent 1 dna with other part of parent 2 dna to make a child\n",
    "        '''\n",
    "        \n",
    "        return child\n",
    "\n",
    "    def mutate(self, child):\n",
    "        '''\n",
    "        randomly choose a gene for mutation\n",
    "        '''\n",
    "            \n",
    "        return child\n",
    "    "
   ]
  },
  {
   "cell_type": "markdown",
   "metadata": {},
   "source": [
    "And lastly, we need to turn our genetic algorithm code into actual code!"
   ]
  },
  {
   "cell_type": "code",
   "execution_count": null,
   "metadata": {},
   "outputs": [],
   "source": [
    "# Pseudocode\n",
    "    \n",
    "#def genetic_algorithm(problem, some number of generations):\n",
    "    \n",
    "    #for some number of generations:\n",
    "                \n",
    "        # Create a new generation by creating a same-sized population\n",
    "        # of children by:\n",
    "            \n",
    "            # 1. select for reproduction\n",
    "            #    a) calculate each population member's fitness for reproduction\n",
    "            #    b) calculate probability of each member reproducing\n",
    "            #    c) select two mates from population based on reproductive probabilities\n",
    "            \n",
    "            # 2. mate the two individuals, creating a child in the new generation\n",
    "            #    a) pick where the parents' \"DNA\" is spliced together\n",
    "            \n",
    "            # 3. child has a gene mutated with some small probability\n",
    "                            \n",
    "        # Check whether any member satisfies the fitness goal\n",
    "        # a) If yes, return that member and exit\n",
    "        # b) If no, continue\n",
    "    \n",
    "    # If we've reached the end (# generations), return some failure warning\n",
    "\n"
   ]
  },
  {
   "cell_type": "code",
   "execution_count": null,
   "metadata": {},
   "outputs": [],
   "source": [
    "genetic_problem = problem(initial_population=initial_population, \n",
    "                          fitness_goal=13, \n",
    "                          mutation_probability=0.1, \n",
    "                          objective_function=delight)\n",
    "out = genetic_algorithm(genetic_problem, 200)\n",
    "print(out)"
   ]
  },
  {
   "cell_type": "code",
   "execution_count": null,
   "metadata": {},
   "outputs": [],
   "source": []
  }
 ],
 "metadata": {
  "kernelspec": {
   "display_name": "Python 3",
   "language": "python",
   "name": "python3"
  },
  "language_info": {
   "codemirror_mode": {
    "name": "ipython",
    "version": 3
   },
   "file_extension": ".py",
   "mimetype": "text/x-python",
   "name": "python",
   "nbconvert_exporter": "python",
   "pygments_lexer": "ipython3",
   "version": "3.7.3"
  }
 },
 "nbformat": 4,
 "nbformat_minor": 2
}
